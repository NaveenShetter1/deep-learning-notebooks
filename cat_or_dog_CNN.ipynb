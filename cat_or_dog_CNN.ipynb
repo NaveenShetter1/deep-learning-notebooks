{
 "cells": [
  {
   "cell_type": "code",
   "execution_count": 48,
   "metadata": {
    "colab": {
     "base_uri": "https://localhost:8080/"
    },
    "id": "hwVSkT81tQ0r",
    "outputId": "a99d917c-7f7e-45a9-dc24-dd6e13535e68"
   },
   "outputs": [
    {
     "name": "stdout",
     "output_type": "stream",
     "text": [
      "Requirement already satisfied: tensorflow in c:\\users\\naveenshetter\\anaconda3\\envs\\tf_env\\lib\\site-packages (2.13.0)Note: you may need to restart the kernel to use updated packages.\n",
      "\n",
      "Requirement already satisfied: tensorflow-intel==2.13.0 in c:\\users\\naveenshetter\\anaconda3\\envs\\tf_env\\lib\\site-packages (from tensorflow) (2.13.0)\n",
      "Requirement already satisfied: absl-py>=1.0.0 in c:\\users\\naveenshetter\\anaconda3\\envs\\tf_env\\lib\\site-packages (from tensorflow-intel==2.13.0->tensorflow) (2.1.0)\n",
      "Requirement already satisfied: astunparse>=1.6.0 in c:\\users\\naveenshetter\\anaconda3\\envs\\tf_env\\lib\\site-packages (from tensorflow-intel==2.13.0->tensorflow) (1.6.3)\n",
      "Requirement already satisfied: flatbuffers>=23.1.21 in c:\\users\\naveenshetter\\anaconda3\\envs\\tf_env\\lib\\site-packages (from tensorflow-intel==2.13.0->tensorflow) (24.3.25)\n",
      "Requirement already satisfied: gast<=0.4.0,>=0.2.1 in c:\\users\\naveenshetter\\anaconda3\\envs\\tf_env\\lib\\site-packages (from tensorflow-intel==2.13.0->tensorflow) (0.4.0)\n",
      "Requirement already satisfied: google-pasta>=0.1.1 in c:\\users\\naveenshetter\\anaconda3\\envs\\tf_env\\lib\\site-packages (from tensorflow-intel==2.13.0->tensorflow) (0.2.0)\n",
      "Requirement already satisfied: h5py>=2.9.0 in c:\\users\\naveenshetter\\anaconda3\\envs\\tf_env\\lib\\site-packages (from tensorflow-intel==2.13.0->tensorflow) (3.11.0)\n",
      "Requirement already satisfied: libclang>=13.0.0 in c:\\users\\naveenshetter\\anaconda3\\envs\\tf_env\\lib\\site-packages (from tensorflow-intel==2.13.0->tensorflow) (18.1.1)\n",
      "Requirement already satisfied: numpy<=1.24.3,>=1.22 in c:\\users\\naveenshetter\\anaconda3\\envs\\tf_env\\lib\\site-packages (from tensorflow-intel==2.13.0->tensorflow) (1.24.3)\n",
      "Requirement already satisfied: opt-einsum>=2.3.2 in c:\\users\\naveenshetter\\anaconda3\\envs\\tf_env\\lib\\site-packages (from tensorflow-intel==2.13.0->tensorflow) (3.4.0)\n",
      "Requirement already satisfied: packaging in c:\\users\\naveenshetter\\anaconda3\\envs\\tf_env\\lib\\site-packages (from tensorflow-intel==2.13.0->tensorflow) (24.2)\n",
      "Requirement already satisfied: protobuf!=4.21.0,!=4.21.1,!=4.21.2,!=4.21.3,!=4.21.4,!=4.21.5,<5.0.0dev,>=3.20.3 in c:\\users\\naveenshetter\\anaconda3\\envs\\tf_env\\lib\\site-packages (from tensorflow-intel==2.13.0->tensorflow) (4.25.5)\n",
      "Requirement already satisfied: setuptools in c:\\users\\naveenshetter\\anaconda3\\envs\\tf_env\\lib\\site-packages (from tensorflow-intel==2.13.0->tensorflow) (75.1.0)\n",
      "Requirement already satisfied: six>=1.12.0 in c:\\users\\naveenshetter\\anaconda3\\envs\\tf_env\\lib\\site-packages (from tensorflow-intel==2.13.0->tensorflow) (1.16.0)\n",
      "Requirement already satisfied: termcolor>=1.1.0 in c:\\users\\naveenshetter\\anaconda3\\envs\\tf_env\\lib\\site-packages (from tensorflow-intel==2.13.0->tensorflow) (2.4.0)\n",
      "Requirement already satisfied: typing-extensions<4.6.0,>=3.6.6 in c:\\users\\naveenshetter\\anaconda3\\envs\\tf_env\\lib\\site-packages (from tensorflow-intel==2.13.0->tensorflow) (4.5.0)\n",
      "Requirement already satisfied: wrapt>=1.11.0 in c:\\users\\naveenshetter\\anaconda3\\envs\\tf_env\\lib\\site-packages (from tensorflow-intel==2.13.0->tensorflow) (1.17.0)\n",
      "Requirement already satisfied: grpcio<2.0,>=1.24.3 in c:\\users\\naveenshetter\\anaconda3\\envs\\tf_env\\lib\\site-packages (from tensorflow-intel==2.13.0->tensorflow) (1.68.1)\n",
      "Requirement already satisfied: tensorboard<2.14,>=2.13 in c:\\users\\naveenshetter\\anaconda3\\envs\\tf_env\\lib\\site-packages (from tensorflow-intel==2.13.0->tensorflow) (2.13.0)\n",
      "Requirement already satisfied: tensorflow-estimator<2.14,>=2.13.0 in c:\\users\\naveenshetter\\anaconda3\\envs\\tf_env\\lib\\site-packages (from tensorflow-intel==2.13.0->tensorflow) (2.13.0)\n",
      "Requirement already satisfied: keras<2.14,>=2.13.1 in c:\\users\\naveenshetter\\anaconda3\\envs\\tf_env\\lib\\site-packages (from tensorflow-intel==2.13.0->tensorflow) (2.13.1)\n",
      "Requirement already satisfied: tensorflow-io-gcs-filesystem>=0.23.1 in c:\\users\\naveenshetter\\anaconda3\\envs\\tf_env\\lib\\site-packages (from tensorflow-intel==2.13.0->tensorflow) (0.31.0)\n",
      "Requirement already satisfied: wheel<1.0,>=0.23.0 in c:\\users\\naveenshetter\\anaconda3\\envs\\tf_env\\lib\\site-packages (from astunparse>=1.6.0->tensorflow-intel==2.13.0->tensorflow) (0.44.0)\n",
      "Requirement already satisfied: google-auth<3,>=1.6.3 in c:\\users\\naveenshetter\\anaconda3\\envs\\tf_env\\lib\\site-packages (from tensorboard<2.14,>=2.13->tensorflow-intel==2.13.0->tensorflow) (2.36.0)\n",
      "Requirement already satisfied: google-auth-oauthlib<1.1,>=0.5 in c:\\users\\naveenshetter\\anaconda3\\envs\\tf_env\\lib\\site-packages (from tensorboard<2.14,>=2.13->tensorflow-intel==2.13.0->tensorflow) (1.0.0)\n",
      "Requirement already satisfied: markdown>=2.6.8 in c:\\users\\naveenshetter\\anaconda3\\envs\\tf_env\\lib\\site-packages (from tensorboard<2.14,>=2.13->tensorflow-intel==2.13.0->tensorflow) (3.7)\n",
      "Requirement already satisfied: requests<3,>=2.21.0 in c:\\users\\naveenshetter\\anaconda3\\envs\\tf_env\\lib\\site-packages (from tensorboard<2.14,>=2.13->tensorflow-intel==2.13.0->tensorflow) (2.32.3)\n",
      "Requirement already satisfied: tensorboard-data-server<0.8.0,>=0.7.0 in c:\\users\\naveenshetter\\anaconda3\\envs\\tf_env\\lib\\site-packages (from tensorboard<2.14,>=2.13->tensorflow-intel==2.13.0->tensorflow) (0.7.2)\n",
      "Requirement already satisfied: werkzeug>=1.0.1 in c:\\users\\naveenshetter\\anaconda3\\envs\\tf_env\\lib\\site-packages (from tensorboard<2.14,>=2.13->tensorflow-intel==2.13.0->tensorflow) (3.0.6)\n",
      "Requirement already satisfied: cachetools<6.0,>=2.0.0 in c:\\users\\naveenshetter\\anaconda3\\envs\\tf_env\\lib\\site-packages (from google-auth<3,>=1.6.3->tensorboard<2.14,>=2.13->tensorflow-intel==2.13.0->tensorflow) (5.5.0)\n",
      "Requirement already satisfied: pyasn1-modules>=0.2.1 in c:\\users\\naveenshetter\\anaconda3\\envs\\tf_env\\lib\\site-packages (from google-auth<3,>=1.6.3->tensorboard<2.14,>=2.13->tensorflow-intel==2.13.0->tensorflow) (0.4.1)\n",
      "Requirement already satisfied: rsa<5,>=3.1.4 in c:\\users\\naveenshetter\\anaconda3\\envs\\tf_env\\lib\\site-packages (from google-auth<3,>=1.6.3->tensorboard<2.14,>=2.13->tensorflow-intel==2.13.0->tensorflow) (4.9)\n",
      "Requirement already satisfied: requests-oauthlib>=0.7.0 in c:\\users\\naveenshetter\\anaconda3\\envs\\tf_env\\lib\\site-packages (from google-auth-oauthlib<1.1,>=0.5->tensorboard<2.14,>=2.13->tensorflow-intel==2.13.0->tensorflow) (2.0.0)\n",
      "Requirement already satisfied: importlib-metadata>=4.4 in c:\\users\\naveenshetter\\anaconda3\\envs\\tf_env\\lib\\site-packages (from markdown>=2.6.8->tensorboard<2.14,>=2.13->tensorflow-intel==2.13.0->tensorflow) (8.5.0)\n",
      "Requirement already satisfied: charset-normalizer<4,>=2 in c:\\users\\naveenshetter\\anaconda3\\envs\\tf_env\\lib\\site-packages (from requests<3,>=2.21.0->tensorboard<2.14,>=2.13->tensorflow-intel==2.13.0->tensorflow) (3.4.0)\n",
      "Requirement already satisfied: idna<4,>=2.5 in c:\\users\\naveenshetter\\anaconda3\\envs\\tf_env\\lib\\site-packages (from requests<3,>=2.21.0->tensorboard<2.14,>=2.13->tensorflow-intel==2.13.0->tensorflow) (3.10)\n",
      "Requirement already satisfied: urllib3<3,>=1.21.1 in c:\\users\\naveenshetter\\anaconda3\\envs\\tf_env\\lib\\site-packages (from requests<3,>=2.21.0->tensorboard<2.14,>=2.13->tensorflow-intel==2.13.0->tensorflow) (2.2.3)\n",
      "Requirement already satisfied: certifi>=2017.4.17 in c:\\users\\naveenshetter\\anaconda3\\envs\\tf_env\\lib\\site-packages (from requests<3,>=2.21.0->tensorboard<2.14,>=2.13->tensorflow-intel==2.13.0->tensorflow) (2024.8.30)\n",
      "Requirement already satisfied: MarkupSafe>=2.1.1 in c:\\users\\naveenshetter\\anaconda3\\envs\\tf_env\\lib\\site-packages (from werkzeug>=1.0.1->tensorboard<2.14,>=2.13->tensorflow-intel==2.13.0->tensorflow) (2.1.5)\n",
      "Requirement already satisfied: zipp>=3.20 in c:\\users\\naveenshetter\\anaconda3\\envs\\tf_env\\lib\\site-packages (from importlib-metadata>=4.4->markdown>=2.6.8->tensorboard<2.14,>=2.13->tensorflow-intel==2.13.0->tensorflow) (3.20.2)\n",
      "Requirement already satisfied: pyasn1<0.7.0,>=0.4.6 in c:\\users\\naveenshetter\\anaconda3\\envs\\tf_env\\lib\\site-packages (from pyasn1-modules>=0.2.1->google-auth<3,>=1.6.3->tensorboard<2.14,>=2.13->tensorflow-intel==2.13.0->tensorflow) (0.6.1)\n",
      "Requirement already satisfied: oauthlib>=3.0.0 in c:\\users\\naveenshetter\\anaconda3\\envs\\tf_env\\lib\\site-packages (from requests-oauthlib>=0.7.0->google-auth-oauthlib<1.1,>=0.5->tensorboard<2.14,>=2.13->tensorflow-intel==2.13.0->tensorflow) (3.2.2)\n"
     ]
    }
   ],
   "source": [
    "pip install tensorflow"
   ]
  },
  {
   "cell_type": "code",
   "execution_count": 49,
   "metadata": {},
   "outputs": [
    {
     "name": "stdout",
     "output_type": "stream",
     "text": [
      "C:\\Users\\NaveenShetter\\anaconda3\\envs\\tf_env\\python.exe\n"
     ]
    }
   ],
   "source": [
    "import sys\n",
    "print(sys.executable)\n"
   ]
  },
  {
   "cell_type": "code",
   "execution_count": 50,
   "metadata": {
    "colab": {
     "base_uri": "https://localhost:8080/"
    },
    "id": "9YsAZyXytCyg",
    "outputId": "ef542687-5335-48ea-8ca5-bc5feb796a61"
   },
   "outputs": [],
   "source": [
    "import tensorflow as tf"
   ]
  },
  {
   "cell_type": "code",
   "execution_count": 51,
   "metadata": {},
   "outputs": [],
   "source": [
    "from keras.preprocessing.image import ImageDataGenerator"
   ]
  },
  {
   "cell_type": "code",
   "execution_count": null,
   "metadata": {
    "id": "kbyc4Q1Ntp5u"
   },
   "outputs": [],
   "source": []
  },
  {
   "cell_type": "markdown",
   "metadata": {
    "id": "9JwX3-fQuIu5"
   },
   "source": [
    "preprocessing the training set"
   ]
  },
  {
   "cell_type": "code",
   "execution_count": 52,
   "metadata": {
    "id": "vEb_sqWtuLnY"
   },
   "outputs": [],
   "source": [
    "train_datagen=ImageDataGenerator(\n",
    "    rescale=1./255,\n",
    "    shear_range=0.2,\n",
    "    zoom_range=0.2,\n",
    "    horizontal_flip=True\n",
    ")"
   ]
  },
  {
   "cell_type": "code",
   "execution_count": 53,
   "metadata": {
    "colab": {
     "base_uri": "https://localhost:8080/",
     "height": 111
    },
    "id": "ttbmUqqVujlc",
    "outputId": "4e616fdb-fc2e-41e8-b4da-2de5322af6a3"
   },
   "outputs": [
    {
     "name": "stdout",
     "output_type": "stream",
     "text": [
      "Found 23650 images belonging to 2 classes.\n"
     ]
    }
   ],
   "source": [
    "training_set=train_datagen.flow_from_directory(\n",
    "    'dataset/train',\n",
    "    target_size=(64,64),\n",
    "    batch_size=32,\n",
    "    class_mode='binary'\n",
    ")"
   ]
  },
  {
   "cell_type": "code",
   "execution_count": 54,
   "metadata": {
    "id": "p6ZEBb5RvApK"
   },
   "outputs": [],
   "source": [
    "test_datagen=ImageDataGenerator(\n",
    "    rescale=1./255\n",
    ")"
   ]
  },
  {
   "cell_type": "code",
   "execution_count": 55,
   "metadata": {
    "id": "t7VTEIuw0kIz"
   },
   "outputs": [
    {
     "name": "stdout",
     "output_type": "stream",
     "text": [
      "Found 3863 images belonging to 2 classes.\n"
     ]
    }
   ],
   "source": [
    "test_set=test_datagen.flow_from_directory(\n",
    "    'dataset/test',\n",
    "    target_size=(64,64),\n",
    "    batch_size=32,\n",
    "    class_mode='binary'\n",
    ")"
   ]
  },
  {
   "cell_type": "markdown",
   "metadata": {
    "id": "G24vJgXo1E72"
   },
   "source": [
    "building the CNN"
   ]
  },
  {
   "cell_type": "code",
   "execution_count": 56,
   "metadata": {
    "id": "ILDR6XTf1BlQ"
   },
   "outputs": [],
   "source": [
    "cnn=tf.keras.models.Sequential()"
   ]
  },
  {
   "cell_type": "markdown",
   "metadata": {
    "id": "DKBQgRXE1R6N"
   },
   "source": [
    "step1: Image to feature map"
   ]
  },
  {
   "cell_type": "code",
   "execution_count": 57,
   "metadata": {
    "id": "xMI6q0jL1QBl"
   },
   "outputs": [],
   "source": [
    "cnn.add(tf.keras.layers.Conv2D(filters=32,kernel_size=3,activation='relu',input_shape=[64,64,3]))"
   ]
  },
  {
   "cell_type": "markdown",
   "metadata": {
    "id": "XiUkixcr2GaD"
   },
   "source": [
    "step2: pooling"
   ]
  },
  {
   "cell_type": "code",
   "execution_count": 58,
   "metadata": {
    "id": "j9VVs0_o1-6D"
   },
   "outputs": [],
   "source": [
    "cnn.add(tf.keras.layers.MaxPool2D(pool_size=2,strides=2))"
   ]
  },
  {
   "cell_type": "markdown",
   "metadata": {
    "id": "TbvbSEcM2UeT"
   },
   "source": [
    "adding a 2nd convolution layer\n",
    "\n",
    ",here kernal size means feature detector or filter matrix which is compared with image"
   ]
  },
  {
   "cell_type": "code",
   "execution_count": 59,
   "metadata": {
    "id": "A669TbB91rtV"
   },
   "outputs": [],
   "source": [
    "cnn.add(tf.keras.layers.Conv2D(filters=32,kernel_size=3,activation='relu',input_shape=[64,64,3]))"
   ]
  },
  {
   "cell_type": "markdown",
   "metadata": {
    "id": "2CbCh_hd3sVp"
   },
   "source": [
    "step3: - flattening"
   ]
  },
  {
   "cell_type": "code",
   "execution_count": 60,
   "metadata": {
    "id": "u6iD-l_R3bK5"
   },
   "outputs": [],
   "source": [
    "cnn.add(tf.keras.layers.Flatten())"
   ]
  },
  {
   "cell_type": "markdown",
   "metadata": {
    "id": "XT7itaYs37tn"
   },
   "source": [
    "step 4 : full connection"
   ]
  },
  {
   "cell_type": "code",
   "execution_count": 61,
   "metadata": {
    "id": "Aew-U5IL35sa"
   },
   "outputs": [],
   "source": [
    "cnn.add(tf.keras.layers.Dense(units=128,activation='relu'))"
   ]
  },
  {
   "cell_type": "markdown",
   "metadata": {
    "id": "lw1AzvNm9Ys1"
   },
   "source": [
    "step 5: - output layer"
   ]
  },
  {
   "cell_type": "code",
   "execution_count": 62,
   "metadata": {
    "id": "migg1Umq9WbM"
   },
   "outputs": [],
   "source": [
    "cnn.add(tf.keras.layers.Dense(units=1,activation='sigmoid'))"
   ]
  },
  {
   "cell_type": "markdown",
   "metadata": {
    "id": "2Upbjxvs9091"
   },
   "source": [
    "Train the CNN\n",
    "\n",
    "Compile the CNN"
   ]
  },
  {
   "cell_type": "code",
   "execution_count": 63,
   "metadata": {
    "id": "w2OCs3pf9n4t"
   },
   "outputs": [],
   "source": [
    "cnn.compile(optimizer='adam',loss='binary_crossentropy',metrics=['accuracy'])"
   ]
  },
  {
   "cell_type": "code",
   "execution_count": 64,
   "metadata": {},
   "outputs": [
    {
     "name": "stdout",
     "output_type": "stream",
     "text": [
      "Requirement already satisfied: Pillow in c:\\users\\naveenshetter\\anaconda3\\envs\\tf_env\\lib\\site-packages (10.4.0)\n",
      "Note: you may need to restart the kernel to use updated packages.\n"
     ]
    }
   ],
   "source": [
    "pip install Pillow\n"
   ]
  },
  {
   "cell_type": "code",
   "execution_count": 65,
   "metadata": {},
   "outputs": [
    {
     "name": "stdout",
     "output_type": "stream",
     "text": [
      "Requirement already satisfied: scipy in c:\\users\\naveenshetter\\anaconda3\\envs\\tf_env\\lib\\site-packages (1.10.1)\n",
      "Requirement already satisfied: numpy<1.27.0,>=1.19.5 in c:\\users\\naveenshetter\\anaconda3\\envs\\tf_env\\lib\\site-packages (from scipy) (1.24.3)\n",
      "Note: you may need to restart the kernel to use updated packages.\n"
     ]
    }
   ],
   "source": [
    "pip install scipy\n"
   ]
  },
  {
   "cell_type": "code",
   "execution_count": 66,
   "metadata": {
    "id": "yK8gBJ_f-Jsw"
   },
   "outputs": [
    {
     "name": "stdout",
     "output_type": "stream",
     "text": [
      "Epoch 1/25\n",
      "740/740 [==============================] - 610s 821ms/step - loss: 0.6457 - accuracy: 0.6326 - val_loss: 0.5838 - val_accuracy: 0.6932\n",
      "Epoch 2/25\n",
      "740/740 [==============================] - 413s 558ms/step - loss: 0.5683 - accuracy: 0.7050 - val_loss: 0.5098 - val_accuracy: 0.7525\n",
      "Epoch 3/25\n",
      "740/740 [==============================] - 156146s 211s/step - loss: 0.5104 - accuracy: 0.7476 - val_loss: 0.4848 - val_accuracy: 0.7655\n",
      "Epoch 4/25\n",
      "740/740 [==============================] - 793s 1s/step - loss: 0.4740 - accuracy: 0.7767 - val_loss: 0.4472 - val_accuracy: 0.8004\n",
      "Epoch 5/25\n",
      "740/740 [==============================] - 1106s 1s/step - loss: 0.4510 - accuracy: 0.7885 - val_loss: 0.4123 - val_accuracy: 0.8079\n",
      "Epoch 6/25\n",
      "740/740 [==============================] - 991s 1s/step - loss: 0.4316 - accuracy: 0.7975 - val_loss: 0.3937 - val_accuracy: 0.8214\n",
      "Epoch 7/25\n",
      "740/740 [==============================] - 1282s 2s/step - loss: 0.4085 - accuracy: 0.8107 - val_loss: 0.3867 - val_accuracy: 0.8333\n",
      "Epoch 8/25\n",
      "740/740 [==============================] - 422s 570ms/step - loss: 0.3927 - accuracy: 0.8204 - val_loss: 0.3828 - val_accuracy: 0.8310\n",
      "Epoch 9/25\n",
      "740/740 [==============================] - 665s 899ms/step - loss: 0.3808 - accuracy: 0.8293 - val_loss: 0.3716 - val_accuracy: 0.8328\n",
      "Epoch 10/25\n",
      "740/740 [==============================] - 448s 605ms/step - loss: 0.3627 - accuracy: 0.8364 - val_loss: 0.3354 - val_accuracy: 0.8537\n",
      "Epoch 11/25\n",
      "740/740 [==============================] - 393s 531ms/step - loss: 0.3509 - accuracy: 0.8451 - val_loss: 0.3738 - val_accuracy: 0.8276\n",
      "Epoch 12/25\n",
      "740/740 [==============================] - 384s 519ms/step - loss: 0.3344 - accuracy: 0.8504 - val_loss: 0.3309 - val_accuracy: 0.8605\n",
      "Epoch 13/25\n",
      "740/740 [==============================] - 394s 532ms/step - loss: 0.3232 - accuracy: 0.8591 - val_loss: 0.3160 - val_accuracy: 0.8620\n",
      "Epoch 14/25\n",
      "740/740 [==============================] - 386s 520ms/step - loss: 0.3030 - accuracy: 0.8690 - val_loss: 0.3721 - val_accuracy: 0.8310\n",
      "Epoch 15/25\n",
      "740/740 [==============================] - 386s 522ms/step - loss: 0.2970 - accuracy: 0.8739 - val_loss: 0.3386 - val_accuracy: 0.8561\n",
      "Epoch 16/25\n",
      "740/740 [==============================] - 385s 520ms/step - loss: 0.2762 - accuracy: 0.8826 - val_loss: 0.3176 - val_accuracy: 0.8607\n",
      "Epoch 17/25\n",
      "740/740 [==============================] - 647s 874ms/step - loss: 0.2666 - accuracy: 0.8856 - val_loss: 0.2928 - val_accuracy: 0.8807\n",
      "Epoch 18/25\n",
      "740/740 [==============================] - 519s 701ms/step - loss: 0.2517 - accuracy: 0.8948 - val_loss: 0.3119 - val_accuracy: 0.8706\n",
      "Epoch 19/25\n",
      "740/740 [==============================] - 399s 539ms/step - loss: 0.2475 - accuracy: 0.8978 - val_loss: 0.2748 - val_accuracy: 0.8962\n",
      "Epoch 20/25\n",
      "740/740 [==============================] - 403s 544ms/step - loss: 0.2349 - accuracy: 0.9022 - val_loss: 0.3425 - val_accuracy: 0.8597\n",
      "Epoch 21/25\n",
      "740/740 [==============================] - 410s 554ms/step - loss: 0.2303 - accuracy: 0.9052 - val_loss: 0.2665 - val_accuracy: 0.8928\n",
      "Epoch 22/25\n",
      "740/740 [==============================] - 392s 530ms/step - loss: 0.2188 - accuracy: 0.9096 - val_loss: 0.2671 - val_accuracy: 0.8985\n",
      "Epoch 23/25\n",
      "740/740 [==============================] - 433s 585ms/step - loss: 0.2064 - accuracy: 0.9163 - val_loss: 0.2725 - val_accuracy: 0.8975\n",
      "Epoch 24/25\n",
      "740/740 [==============================] - 127719s 173s/step - loss: 0.2038 - accuracy: 0.9162 - val_loss: 0.2944 - val_accuracy: 0.8941\n",
      "Epoch 25/25\n",
      "740/740 [==============================] - 801s 1s/step - loss: 0.1849 - accuracy: 0.9255 - val_loss: 0.3045 - val_accuracy: 0.8833\n"
     ]
    },
    {
     "data": {
      "text/plain": [
       "<keras.src.callbacks.History at 0x21cdfd5f190>"
      ]
     },
     "execution_count": 66,
     "metadata": {},
     "output_type": "execute_result"
    }
   ],
   "source": [
    "cnn.fit(x=training_set,validation_data=test_set,epochs=25)"
   ]
  },
  {
   "cell_type": "markdown",
   "metadata": {
    "id": "7-kCa1p3-gX5"
   },
   "source": [
    "Deploying CNN for read world image recognition"
   ]
  },
  {
   "cell_type": "code",
   "execution_count": 70,
   "metadata": {
    "id": "I0dbfx-b-fnC"
   },
   "outputs": [
    {
     "name": "stdout",
     "output_type": "stream",
     "text": [
      "1/1 [==============================] - 2s 2s/step\n"
     ]
    }
   ],
   "source": [
    "import numpy as np\n",
    "from keras.preprocessing import image\n",
    "test_image=image.load_img(r'C:\\Users\\NaveenShetter\\Downloads\\dataset\\single_prediction\\cat_or_dog_1.jpg',target_size=(64,64))\n",
    "test_image=image.img_to_array(test_image)\n",
    "test_image=np.expand_dims(test_image,axis=0)\n",
    "result=cnn.predict(test_image)\n",
    "training_set.class_indices\n",
    "if result[0][0]==1:\n",
    "  prediction='dog'\n",
    "else:\n",
    "  prediction='cat'\n"
   ]
  },
  {
   "cell_type": "code",
   "execution_count": 71,
   "metadata": {
    "id": "tFgByr7CARMb"
   },
   "outputs": [
    {
     "name": "stdout",
     "output_type": "stream",
     "text": [
      "dog\n"
     ]
    }
   ],
   "source": [
    "print(prediction)"
   ]
  },
  {
   "cell_type": "code",
   "execution_count": 72,
   "metadata": {
    "id": "at2h71qu-YEh"
   },
   "outputs": [
    {
     "name": "stdout",
     "output_type": "stream",
     "text": [
      "['cat_or_dog_1.jpg']\n"
     ]
    }
   ],
   "source": [
    "import os\n",
    "\n",
    "# List files in the target directory\n",
    "files = os.listdir('C:/Users/NaveenShetter/Downloads/dataset/single_prediction')\n",
    "print(files)\n"
   ]
  },
  {
   "cell_type": "code",
   "execution_count": null,
   "metadata": {},
   "outputs": [],
   "source": []
  }
 ],
 "metadata": {
  "colab": {
   "provenance": []
  },
  "kernelspec": {
   "display_name": "tfker",
   "language": "python",
   "name": "tfker"
  },
  "language_info": {
   "codemirror_mode": {
    "name": "ipython",
    "version": 3
   },
   "file_extension": ".py",
   "mimetype": "text/x-python",
   "name": "python",
   "nbconvert_exporter": "python",
   "pygments_lexer": "ipython3",
   "version": "3.8.20"
  }
 },
 "nbformat": 4,
 "nbformat_minor": 4
}
